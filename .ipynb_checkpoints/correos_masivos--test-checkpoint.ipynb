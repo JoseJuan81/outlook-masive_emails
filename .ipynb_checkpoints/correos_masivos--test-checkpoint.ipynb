{
 "cells": [
  {
   "cell_type": "markdown",
   "id": "cf897fe7-b53f-454d-8fad-a21259ddf118",
   "metadata": {},
   "source": [
    "https://loopgk.com/2021/03/05/enviando-emails-con-python-guia-completa/"
   ]
  },
  {
   "cell_type": "code",
   "execution_count": 52,
   "id": "48e8ff3d-c272-456a-a1bd-ea54b0a13023",
   "metadata": {},
   "outputs": [],
   "source": [
    "import smtplib \n",
    "from email.message import EmailMessage"
   ]
  },
  {
   "cell_type": "code",
   "execution_count": 53,
   "id": "591e8505-518e-4cbf-87aa-c4af2417f43a",
   "metadata": {},
   "outputs": [],
   "source": [
    "message = EmailMessage()"
   ]
  },
  {
   "cell_type": "code",
   "execution_count": 54,
   "id": "1b71b1a3-e0b6-4460-a11b-f16df9befa8f",
   "metadata": {},
   "outputs": [],
   "source": [
    "email_subject = \"Email test from Python\" \n",
    "sender_email_address = \"josejuan.dominguez@int-elle.com\" \n",
    "receiver_email_address = \"dominguez.josejuan@gmail.com\" \n",
    "\n",
    "# Configure email headers \n",
    "message['Subject'] = email_subject \n",
    "message['From'] = sender_email_address \n",
    "message['To'] = receiver_email_address"
   ]
  },
  {
   "cell_type": "code",
   "execution_count": 55,
   "id": "73af4910-3b20-454d-b674-d4438271bcb1",
   "metadata": {},
   "outputs": [],
   "source": [
    "message.set_content(\"Hello from Python!\")"
   ]
  },
  {
   "cell_type": "code",
   "execution_count": 56,
   "id": "663957e5-b576-4c7e-8461-c1c07764ffa5",
   "metadata": {},
   "outputs": [],
   "source": [
    "email_smtp = \"smtp.office365.com\"\n",
    "server = smtplib.SMTP(email_smtp, '587')"
   ]
  },
  {
   "cell_type": "code",
   "execution_count": 57,
   "id": "987928ac-670a-4903-85d4-1706c774c175",
   "metadata": {},
   "outputs": [],
   "source": [
    "# server.ehlo()"
   ]
  },
  {
   "cell_type": "code",
   "execution_count": 58,
   "id": "43cacace-3c6e-447c-8344-65d97675fa96",
   "metadata": {},
   "outputs": [
    {
     "data": {
      "text/plain": [
       "(220, b'2.0.0 SMTP server ready')"
      ]
     },
     "execution_count": 58,
     "metadata": {},
     "output_type": "execute_result"
    }
   ],
   "source": [
    "server.starttls()"
   ]
  },
  {
   "cell_type": "code",
   "execution_count": 62,
   "id": "1bd7e1ac-2b1c-4f01-9111-10fa05dab51a",
   "metadata": {},
   "outputs": [],
   "source": [
    "email_password = \"\""
   ]
  },
  {
   "cell_type": "code",
   "execution_count": 61,
   "id": "5e2dd80d-bad9-4f46-8055-ede47ddf6305",
   "metadata": {},
   "outputs": [
    {
     "ename": "SMTPAuthenticationError",
     "evalue": "(535, b'5.7.139 Authentication unsuccessful, SmtpClientAuthentication is disabled for the Tenant. Visit https://aka.ms/smtp_auth_disabled for more information. [SCYPR80CA0020.lamprd80.prod.outlook.com 2023-07-07T16:21:16.626Z 08DB7EC701129AEB]')",
     "output_type": "error",
     "traceback": [
      "\u001b[1;31m---------------------------------------------------------------------------\u001b[0m",
      "\u001b[1;31mSMTPAuthenticationError\u001b[0m                   Traceback (most recent call last)",
      "Cell \u001b[1;32mIn[61], line 1\u001b[0m\n\u001b[1;32m----> 1\u001b[0m \u001b[43mserver\u001b[49m\u001b[38;5;241;43m.\u001b[39;49m\u001b[43mlogin\u001b[49m\u001b[43m(\u001b[49m\u001b[43msender_email_address\u001b[49m\u001b[43m,\u001b[49m\u001b[43m \u001b[49m\u001b[43memail_password\u001b[49m\u001b[43m)\u001b[49m\n",
      "File \u001b[1;32mD:\\PROGRAMAS\\ANACONDA_NAVIGATOR\\lib\\smtplib.py:750\u001b[0m, in \u001b[0;36mSMTP.login\u001b[1;34m(self, user, password, initial_response_ok)\u001b[0m\n\u001b[0;32m    747\u001b[0m         last_exception \u001b[38;5;241m=\u001b[39m e\n\u001b[0;32m    749\u001b[0m \u001b[38;5;66;03m# We could not login successfully.  Return result of last attempt.\u001b[39;00m\n\u001b[1;32m--> 750\u001b[0m \u001b[38;5;28;01mraise\u001b[39;00m last_exception\n",
      "File \u001b[1;32mD:\\PROGRAMAS\\ANACONDA_NAVIGATOR\\lib\\smtplib.py:739\u001b[0m, in \u001b[0;36mSMTP.login\u001b[1;34m(self, user, password, initial_response_ok)\u001b[0m\n\u001b[0;32m    737\u001b[0m method_name \u001b[38;5;241m=\u001b[39m \u001b[38;5;124m'\u001b[39m\u001b[38;5;124mauth_\u001b[39m\u001b[38;5;124m'\u001b[39m \u001b[38;5;241m+\u001b[39m authmethod\u001b[38;5;241m.\u001b[39mlower()\u001b[38;5;241m.\u001b[39mreplace(\u001b[38;5;124m'\u001b[39m\u001b[38;5;124m-\u001b[39m\u001b[38;5;124m'\u001b[39m, \u001b[38;5;124m'\u001b[39m\u001b[38;5;124m_\u001b[39m\u001b[38;5;124m'\u001b[39m)\n\u001b[0;32m    738\u001b[0m \u001b[38;5;28;01mtry\u001b[39;00m:\n\u001b[1;32m--> 739\u001b[0m     (code, resp) \u001b[38;5;241m=\u001b[39m \u001b[38;5;28;43mself\u001b[39;49m\u001b[38;5;241;43m.\u001b[39;49m\u001b[43mauth\u001b[49m\u001b[43m(\u001b[49m\n\u001b[0;32m    740\u001b[0m \u001b[43m        \u001b[49m\u001b[43mauthmethod\u001b[49m\u001b[43m,\u001b[49m\u001b[43m \u001b[49m\u001b[38;5;28;43mgetattr\u001b[39;49m\u001b[43m(\u001b[49m\u001b[38;5;28;43mself\u001b[39;49m\u001b[43m,\u001b[49m\u001b[43m \u001b[49m\u001b[43mmethod_name\u001b[49m\u001b[43m)\u001b[49m\u001b[43m,\u001b[49m\n\u001b[0;32m    741\u001b[0m \u001b[43m        \u001b[49m\u001b[43minitial_response_ok\u001b[49m\u001b[38;5;241;43m=\u001b[39;49m\u001b[43minitial_response_ok\u001b[49m\u001b[43m)\u001b[49m\n\u001b[0;32m    742\u001b[0m     \u001b[38;5;66;03m# 235 == 'Authentication successful'\u001b[39;00m\n\u001b[0;32m    743\u001b[0m     \u001b[38;5;66;03m# 503 == 'Error: already authenticated'\u001b[39;00m\n\u001b[0;32m    744\u001b[0m     \u001b[38;5;28;01mif\u001b[39;00m code \u001b[38;5;129;01min\u001b[39;00m (\u001b[38;5;241m235\u001b[39m, \u001b[38;5;241m503\u001b[39m):\n",
      "File \u001b[1;32mD:\\PROGRAMAS\\ANACONDA_NAVIGATOR\\lib\\smtplib.py:662\u001b[0m, in \u001b[0;36mSMTP.auth\u001b[1;34m(self, mechanism, authobject, initial_response_ok)\u001b[0m\n\u001b[0;32m    660\u001b[0m \u001b[38;5;28;01mif\u001b[39;00m code \u001b[38;5;129;01min\u001b[39;00m (\u001b[38;5;241m235\u001b[39m, \u001b[38;5;241m503\u001b[39m):\n\u001b[0;32m    661\u001b[0m     \u001b[38;5;28;01mreturn\u001b[39;00m (code, resp)\n\u001b[1;32m--> 662\u001b[0m \u001b[38;5;28;01mraise\u001b[39;00m SMTPAuthenticationError(code, resp)\n",
      "\u001b[1;31mSMTPAuthenticationError\u001b[0m: (535, b'5.7.139 Authentication unsuccessful, SmtpClientAuthentication is disabled for the Tenant. Visit https://aka.ms/smtp_auth_disabled for more information. [SCYPR80CA0020.lamprd80.prod.outlook.com 2023-07-07T16:21:16.626Z 08DB7EC701129AEB]')"
     ]
    }
   ],
   "source": [
    "server.login(sender_email_address, email_password)"
   ]
  },
  {
   "cell_type": "code",
   "execution_count": null,
   "id": "7fc3fbb5-0ac6-4ae0-92f3-81015c6fd167",
   "metadata": {},
   "outputs": [],
   "source": [
    "server.send_message(message)"
   ]
  },
  {
   "cell_type": "code",
   "execution_count": null,
   "id": "a72411eb-a741-4e4f-8091-5ae19cd85616",
   "metadata": {},
   "outputs": [],
   "source": [
    "server.quit()"
   ]
  },
  {
   "cell_type": "code",
   "execution_count": null,
   "id": "dfba6f04-5f3e-49eb-af53-812a512208ef",
   "metadata": {},
   "outputs": [],
   "source": []
  }
 ],
 "metadata": {
  "kernelspec": {
   "display_name": "Python 3 (ipykernel)",
   "language": "python",
   "name": "python3"
  },
  "language_info": {
   "codemirror_mode": {
    "name": "ipython",
    "version": 3
   },
   "file_extension": ".py",
   "mimetype": "text/x-python",
   "name": "python",
   "nbconvert_exporter": "python",
   "pygments_lexer": "ipython3",
   "version": "3.10.9"
  }
 },
 "nbformat": 4,
 "nbformat_minor": 5
}
