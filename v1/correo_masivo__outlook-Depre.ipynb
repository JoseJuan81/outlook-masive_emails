{
 "cells": [
  {
   "cell_type": "code",
   "execution_count": 1,
   "id": "1d75d951-bbce-43bf-8aae-f256b0a6ded1",
   "metadata": {},
   "outputs": [],
   "source": [
    "# !pip install pywin32"
   ]
  },
  {
   "cell_type": "code",
   "execution_count": 2,
   "id": "56856423-8d8c-4164-a687-f6f5795dae81",
   "metadata": {},
   "outputs": [],
   "source": [
    "import os\n",
    "import pandas as pd\n",
    "import win32com.client as win32\n",
    "from Templates.template_sign import html_template_sign\n",
    "from Templates.template_base import html_template_base"
   ]
  },
  {
   "cell_type": "markdown",
   "id": "49f6fa6d-8c4f-4ecc-be6f-8a46a9e68e6f",
   "metadata": {},
   "source": [
    "## Importar contenido del correo"
   ]
  },
  {
   "cell_type": "code",
   "execution_count": 3,
   "id": "628b6b56-5a82-4f9d-ad77-e528229c2df1",
   "metadata": {},
   "outputs": [],
   "source": [
    "from Templates.ANTIADHERENTE.template import template"
   ]
  },
  {
   "cell_type": "markdown",
   "id": "8d994a96-8f23-4ac3-b692-84c77e9e3f3b",
   "metadata": {},
   "source": [
    "## Importar imágenes de la firma del correo y cuerpo"
   ]
  },
  {
   "cell_type": "code",
   "execution_count": 4,
   "id": "309d5113-dbc2-4bbd-b6e5-6fc6feb029e8",
   "metadata": {},
   "outputs": [],
   "source": [
    "from Templates.common_assets.achilles_img import achilles\n",
    "from Templates.common_assets.cccp_img import cccp\n",
    "from Templates.common_assets.intelle import intelle\n",
    "from Templates.common_assets.linkedin_logo import linkedin_logo"
   ]
  },
  {
   "cell_type": "markdown",
   "id": "73810c94-7f61-481f-af6e-10bbe0fc6a25",
   "metadata": {},
   "source": [
    "## Importar Imágenes para el Template - Body"
   ]
  },
  {
   "cell_type": "code",
   "execution_count": 2,
   "id": "fcd4ebcd-6f92-40f7-aff3-59a0e8edd02e",
   "metadata": {},
   "outputs": [],
   "source": [
    "from pathlib import Path"
   ]
  },
  {
   "cell_type": "markdown",
   "id": "7be82457-2da2-421b-90e1-1db68b3dee2b",
   "metadata": {},
   "source": [
    "### Cargar imágenes y convertirlas a base64"
   ]
  },
  {
   "cell_type": "code",
   "execution_count": 6,
   "id": "f6f57ea9-5652-44f9-95ed-cf171008eaa0",
   "metadata": {},
   "outputs": [
    {
     "data": {
      "text/plain": [
       "5"
      ]
     },
     "execution_count": 6,
     "metadata": {},
     "output_type": "execute_result"
    }
   ],
   "source": [
    "cwd = Path().cwd()\n",
    "img_path = Path(cwd, Path(\"Templates\"), Path(\"ANTIADHERENTE\"), Path(\"assets\"))\n",
    "images = [f.read_text() for f in img_path.iterdir() if f.suffix == \".txt\"]\n",
    "#img = img_path.read_text()\n",
    "len(images)"
   ]
  },
  {
   "cell_type": "markdown",
   "id": "965334d3-9e3c-406d-91e2-3016380f1c4c",
   "metadata": {},
   "source": [
    "### Extraer contactos y obtener solo nombre y correo electrónico"
   ]
  },
  {
   "cell_type": "code",
   "execution_count": 7,
   "id": "84e42793-b96e-41a4-9a40-c2038fad9859",
   "metadata": {},
   "outputs": [
    {
     "data": {
      "text/plain": [
       "171"
      ]
     },
     "execution_count": 7,
     "metadata": {},
     "output_type": "execute_result"
    }
   ],
   "source": [
    "df_mina = pd.read_csv(\"contactos/mina.csv\", encoding=\"utf-8\")\n",
    "df_planta = pd.read_csv(\"contactos/planta.csv\", encoding=\"utf-8\")\n",
    "df_tuberia = pd.read_csv(\"contactos/tuberia.csv\", encoding=\"utf-8\")\n",
    "df_compras = pd.read_csv(\"contactos/compras.csv\", encoding=\"utf-8\")\n",
    "df = pd.concat([df_mina, df_planta, df_tuberia, df_compras], ignore_index=True)\n",
    "contacts = df[[\"Nombre\", \"Correo\"]]\n",
    "len(contacts)"
   ]
  },
  {
   "cell_type": "markdown",
   "id": "b0b75390-223b-4a8a-b6d8-bbb5e0273a62",
   "metadata": {},
   "source": [
    "### Extraer el primer nombre del contacto"
   ]
  },
  {
   "cell_type": "code",
   "execution_count": 8,
   "id": "9ea69800-47f8-4370-8de8-332fc77660ed",
   "metadata": {},
   "outputs": [
    {
     "name": "stdout",
     "output_type": "stream",
     "text": [
      "David\n",
      "Alexander\n",
      "Luis\n",
      "Marcos\n",
      "Jorge\n",
      "Edwin\n",
      "Omar\n",
      "Freddy\n",
      "José\n",
      "Helder\n",
      "Hambert\n",
      "Derly\n",
      "Edgar\n",
      "Ramiro\n",
      "Ramiro\n",
      "Julvers\n",
      "David\n",
      "Edmundo\n",
      "Hugo\n",
      "Angel\n",
      "Richard\n",
      "Julio\n",
      "Aldo\n",
      "Adalberto\n",
      "Alan\n",
      "Aldo\n",
      "Aparicio\n",
      "Armando\n",
      "Armas\n",
      "Arquimides\n",
      "Carlos\n",
      "Carlos\n",
      "Carmen\n",
      "Carolina\n",
      "Claudio\n",
      "Daniel\n",
      "Daniel\n",
      "Danny\n",
      "Dante\n",
      "David\n",
      "David\n",
      "David\n",
      "Deigly\n",
      "Eder\n",
      "Eduardo\n",
      "Edward\n",
      "Edwin\n",
      "Elard\n",
      "Elmer\n",
      "Erick\n",
      "Ernesto\n",
      "Ernie\n",
      "Felix\n",
      "Fernando\n",
      "Fernando\n",
      "Fidel\n",
      "Francisco\n",
      "Fredy\n",
      "Guido\n",
      "Gustavo\n",
      "Hans\n",
      "Helder\n",
      "Henry\n",
      "Hernando\n",
      "Heudin\n",
      "Ismael\n",
      "Jaime\n",
      "Javier\n",
      "Jhon\n",
      "Jorge\n",
      "Jorge\n",
      "Jose\n",
      "José\n",
      "José\n",
      "José\n",
      "José\n",
      "Juan\n",
      "Juan\n",
      "Juan\n",
      "Julio\n",
      "Kenny\n",
      "Leonardo\n",
      "Lobato\n",
      "Luis\n",
      "Luis\n",
      "Manolo\n",
      "Manuel\n",
      "Manuel\n",
      "Manuel\n",
      "Marcial\n",
      "Marco\n",
      "Maykel\n",
      "Miguel\n",
      "Miguel\n",
      "Mijail\n",
      "Milton\n",
      "Oscar\n",
      "Pablo\n",
      "Percy\n",
      "Ramiro\n",
      "Randol\n",
      "Raul\n",
      "Raúl\n",
      "Ricardo\n",
      "Ricardo\n",
      "Richard\n",
      "Richard\n",
      "Roberto\n",
      "Ronald\n",
      "Rubén\n",
      "Rubén\n",
      "Ryan\n",
      "Sandro\n",
      "Segundo\n",
      "Sergio\n",
      "Smith\n",
      "Victor\n",
      "Vladimir\n",
      "William\n",
      "Yomal\n",
      "Yovanni\n",
      "Zusally\n",
      "Edgar\n",
      "Humberto\n",
      "Renato\n",
      "Aldo\n",
      "Priscila\n",
      "Oscar\n",
      "Ricardo\n",
      "Oscar\n",
      "Victor\n",
      "Jorge\n",
      "Liset\n",
      "Marco\n",
      "Judith\n",
      "Ximena\n",
      "Martín\n",
      "Rafael\n",
      "Narciso\n",
      "Fernando\n",
      "Rossmary\n",
      "Ever\n",
      "Anibal\n",
      "Ruth\n",
      "Erika\n",
      "Joel\n",
      "Carlo\n",
      "Ramón\n",
      "Andrea\n",
      "Carlos\n",
      "Alfredo\n",
      "Hernan\n",
      "Jorge\n",
      "Manuel\n",
      "Enrique\n",
      "Michele\n",
      "Alvaro\n",
      "Luis\n",
      "Anaiz\n",
      "Dulce\n",
      "Franlismari\n",
      "María\n",
      "Cesar\n",
      "Franklin\n",
      "Franking\n",
      "Aaron\n",
      "Manuel\n",
      "Carla\n",
      "Wili\n",
      "Karla\n",
      "Catherine\n"
     ]
    }
   ],
   "source": [
    "for name, email in contacts.values:\n",
    "    print(name.split(\" \")[0].title())"
   ]
  },
  {
   "cell_type": "code",
   "execution_count": 9,
   "id": "415e4fbc-5b59-4e47-8089-c1533667abbc",
   "metadata": {},
   "outputs": [],
   "source": [
    "email_sign = html_template_sign(linkedin_logo, intelle, cccp, achilles)"
   ]
  },
  {
   "cell_type": "markdown",
   "id": "60163f8e-25e9-4043-aaca-a457d6948dbb",
   "metadata": {},
   "source": [
    "## Asunto del Correo"
   ]
  },
  {
   "cell_type": "code",
   "execution_count": 10,
   "id": "bee04470-879a-4695-85d6-e81d819e32b5",
   "metadata": {},
   "outputs": [],
   "source": [
    "subject = \"😎😎 Materiales de desgaste antiadherente :: Int-elle Corporation\""
   ]
  },
  {
   "cell_type": "markdown",
   "id": "d621dd09-33d3-4dd4-af89-1d875b59cc94",
   "metadata": {},
   "source": [
    "## Envío de correo"
   ]
  },
  {
   "cell_type": "code",
   "execution_count": 11,
   "id": "4435ba85-dd3f-460d-bf21-5d59cfa1e852",
   "metadata": {},
   "outputs": [],
   "source": [
    "outlook = win32.Dispatch('outlook.application')\n",
    "\n",
    "for name, email in contacts.values:\n",
    "# for name, email in [(\"José Juan\", \"josejuan.dominguez@int-elle.com\")]:\n",
    "    first_name = name.split(\" \")[0].title()\n",
    "    body = template(first_name, images)\n",
    "    # body = \"\"\n",
    "    \n",
    "    mail = outlook.CreateItem(0)\n",
    "    mail.Subject = subject\n",
    "    mail.To = email\n",
    "    mail.HTMLBody = html_template_base(body, email_sign)\n",
    "    mail.Display()\n",
    "    mail.Send()"
   ]
  },
  {
   "cell_type": "code",
   "execution_count": 1,
   "id": "a6531291-ef70-4eff-b583-a91dc4588d65",
   "metadata": {},
   "outputs": [],
   "source": [
    "a = [1, 2, 3, 4]"
   ]
  },
  {
   "cell_type": "code",
   "execution_count": 2,
   "id": "fb3f99ea-5de5-4508-a527-c8ce3f865ec5",
   "metadata": {},
   "outputs": [
    {
     "ename": "SyntaxError",
     "evalue": "invalid syntax (394553381.py, line 1)",
     "output_type": "error",
     "traceback": [
      "\u001b[1;36m  Cell \u001b[1;32mIn[2], line 1\u001b[1;36m\u001b[0m\n\u001b[1;33m    **a\u001b[0m\n\u001b[1;37m    ^\u001b[0m\n\u001b[1;31mSyntaxError\u001b[0m\u001b[1;31m:\u001b[0m invalid syntax\n"
     ]
    }
   ],
   "source": [
    "**a"
   ]
  },
  {
   "cell_type": "code",
   "execution_count": 5,
   "id": "7fb0046e-8128-429c-988d-eb3ab8cdd231",
   "metadata": {},
   "outputs": [
    {
     "name": "stdout",
     "output_type": "stream",
     "text": [
      "[1, 2, 3, 4]\n"
     ]
    }
   ],
   "source": [
    "print([*a])"
   ]
  },
  {
   "cell_type": "code",
   "execution_count": null,
   "id": "843ad10e-9c4b-4b3f-9538-2ecf07fd1b4b",
   "metadata": {},
   "outputs": [],
   "source": []
  }
 ],
 "metadata": {
  "kernelspec": {
   "display_name": "Python 3 (ipykernel)",
   "language": "python",
   "name": "python3"
  },
  "language_info": {
   "codemirror_mode": {
    "name": "ipython",
    "version": 3
   },
   "file_extension": ".py",
   "mimetype": "text/x-python",
   "name": "python",
   "nbconvert_exporter": "python",
   "pygments_lexer": "ipython3",
   "version": "3.10.9"
  }
 },
 "nbformat": 4,
 "nbformat_minor": 5
}
