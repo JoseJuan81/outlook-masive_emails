{
 "cells": [
  {
   "cell_type": "code",
   "execution_count": null,
   "id": "86719c33-d751-4457-8987-1de2c9dbd07d",
   "metadata": {},
   "outputs": [
    {
     "ename": "FileNotFoundError",
     "evalue": "[WinError 2] El sistema no puede encontrar el archivo especificado: 'C:\\\\Users\\\\domin\\\\JUPYTERLAB\\\\outlook-masive-emails\\\\v2\\\\v2'",
     "output_type": "error",
     "traceback": [
      "\u001b[1;31m---------------------------------------------------------------------------\u001b[0m",
      "\u001b[1;31mFileNotFoundError\u001b[0m                         Traceback (most recent call last)",
      "Cell \u001b[1;32mIn[1], line 9\u001b[0m\n\u001b[0;32m      7\u001b[0m v2 \u001b[38;5;241m=\u001b[39m Path(\u001b[38;5;124m\"\u001b[39m\u001b[38;5;124mv2\u001b[39m\u001b[38;5;124m\"\u001b[39m)\n\u001b[0;32m      8\u001b[0m new_root \u001b[38;5;241m=\u001b[39m Path(root, v2)\n\u001b[1;32m----> 9\u001b[0m \u001b[43mos\u001b[49m\u001b[38;5;241;43m.\u001b[39;49m\u001b[43mchdir\u001b[49m\u001b[43m(\u001b[49m\u001b[43mnew_root\u001b[49m\u001b[43m)\u001b[49m\n",
      "\u001b[1;31mFileNotFoundError\u001b[0m: [WinError 2] El sistema no puede encontrar el archivo especificado: 'C:\\\\Users\\\\domin\\\\JUPYTERLAB\\\\outlook-masive-emails\\\\v2\\\\v2'"
     ]
    }
   ],
   "source": [
    "import os\n",
    "from pathlib import Path\n",
    "\n",
    "os.getcwd()\n",
    "\n",
    "root = Path(os.getcwd())\n",
    "v2 = Path(\"v2\")\n",
    "new_root = Path(root, v2)\n",
    "os.chdir(new_root)"
   ]
  },
  {
   "cell_type": "code",
   "execution_count": 1,
   "id": "2a7f24c2-3e57-43a2-9a07-14b4e6ec9802",
   "metadata": {
    "tags": []
   },
   "outputs": [
    {
     "name": "stdout",
     "output_type": "stream",
     "text": [
      "None\n",
      "{'start_cursor': 'd3a017ed-3d66-408a-ae16-5e1e829ec6c6'}\n",
      "{'start_cursor': '1f18ad81-fd3b-408a-8412-545922b4d34c'}\n",
      "{'start_cursor': '4382b556-18ea-49b9-beb3-4a53bf8862b7'}\n",
      "============================================================\n",
      "Estas en modo PRODUCCIÓN\n",
      "Enviarás el correo a: 212 contacto(s)\n"
     ]
    },
    {
     "name": "stdin",
     "output_type": "stream",
     "text": [
      "Estas seguro de continuar?:\n",
      "S - Si\n",
      "N - No\n",
      " s\n"
     ]
    },
    {
     "name": "stdout",
     "output_type": "stream",
     "text": [
      "{'Nombre': 'David Manuel Lopez Escobedo', 'Correo': 'dlopezes@fmi.com', 'Area': 'Planta', 'NO Correo Masivo': False, 'País': 'Perú'}\n",
      "Correo 1 / 212 enviado\n",
      "============================================================\n",
      "{'Nombre': 'Jordan González', 'Correo': None, 'Area': 'Planta', 'NO Correo Masivo': False, 'País': 'Venezuela'}\n"
     ]
    },
    {
     "ename": "com_error",
     "evalue": "(-2147352567, 'Ocurrió una excepción.', (4096, 'Microsoft Outlook', 'Objeto no compatible con este método.', None, 0, -2147352567), None)",
     "output_type": "error",
     "traceback": [
      "\u001b[1;31m---------------------------------------------------------------------------\u001b[0m",
      "\u001b[1;31mcom_error\u001b[0m                                 Traceback (most recent call last)",
      "Cell \u001b[1;32mIn[1], line 20\u001b[0m\n\u001b[0;32m     18\u001b[0m emails\u001b[38;5;241m.\u001b[39mget_contacts(test\u001b[38;5;241m=\u001b[39m\u001b[38;5;28;01mFalse\u001b[39;00m, filter_columns\u001b[38;5;241m=\u001b[39mCONTACT_FILTERED)\n\u001b[0;32m     19\u001b[0m emails\u001b[38;5;241m.\u001b[39mset_subject(\u001b[38;5;124m\"\u001b[39m\u001b[38;5;124m💎💎 El Carburo de Tungsteno .. Int-elle Corporation\u001b[39m\u001b[38;5;124m\"\u001b[39m)\n\u001b[1;32m---> 20\u001b[0m emails\u001b[38;5;241m.\u001b[39msend(outlook)\n",
      "File \u001b[1;32mD:\\PROGRAMAS\\JUPYTER\\Outlook-Masive-Emails\\v2\\Classes\\email_class.py:91\u001b[0m, in \u001b[0;36mSendEmails.send\u001b[1;34m(self, outlook)\u001b[0m\n\u001b[0;32m     89\u001b[0m mail\u001b[38;5;241m.\u001b[39mSubject \u001b[38;5;241m=\u001b[39m \u001b[38;5;28mself\u001b[39m\u001b[38;5;241m.\u001b[39memail_subject\n\u001b[0;32m     90\u001b[0m mail\u001b[38;5;241m.\u001b[39mHTMLBody \u001b[38;5;241m=\u001b[39m \u001b[38;5;28mself\u001b[39m\u001b[38;5;241m.\u001b[39mtemplates[\u001b[38;5;124m\"\u001b[39m\u001b[38;5;124mbase\u001b[39m\u001b[38;5;124m\"\u001b[39m](body, sign)\n\u001b[1;32m---> 91\u001b[0m mail\u001b[38;5;241m.\u001b[39mTo \u001b[38;5;241m=\u001b[39m email\n\u001b[0;32m     92\u001b[0m mail\u001b[38;5;241m.\u001b[39mDisplay()\n\u001b[0;32m     93\u001b[0m mail\u001b[38;5;241m.\u001b[39mSend()\n",
      "File \u001b[1;32m~\\anaconda3\\Lib\\site-packages\\win32com\\client\\dynamic.py:686\u001b[0m, in \u001b[0;36mCDispatch.__setattr__\u001b[1;34m(self, attr, value)\u001b[0m\n\u001b[0;32m    682\u001b[0m         entry \u001b[38;5;241m=\u001b[39m \u001b[38;5;28mself\u001b[39m\u001b[38;5;241m.\u001b[39m_olerepr_\u001b[38;5;241m.\u001b[39mpropMapPut[attr]\n\u001b[0;32m    683\u001b[0m         invoke_type \u001b[38;5;241m=\u001b[39m _GetDescInvokeType(\n\u001b[0;32m    684\u001b[0m             entry, pythoncom\u001b[38;5;241m.\u001b[39mINVOKE_PROPERTYPUT\n\u001b[0;32m    685\u001b[0m         )\n\u001b[1;32m--> 686\u001b[0m         \u001b[38;5;28mself\u001b[39m\u001b[38;5;241m.\u001b[39m_oleobj_\u001b[38;5;241m.\u001b[39mInvoke(entry\u001b[38;5;241m.\u001b[39mdispid, \u001b[38;5;241m0\u001b[39m, invoke_type, \u001b[38;5;241m0\u001b[39m, value)\n\u001b[0;32m    687\u001b[0m         \u001b[38;5;28;01mreturn\u001b[39;00m\n\u001b[0;32m    688\u001b[0m \u001b[38;5;28;01mtry\u001b[39;00m:\n",
      "\u001b[1;31mcom_error\u001b[0m: (-2147352567, 'Ocurrió una excepción.', (4096, 'Microsoft Outlook', 'Objeto no compatible con este método.', None, 0, -2147352567), None)"
     ]
    }
   ],
   "source": [
    "\"\"\"Módulo principal para ejecutar la aplicación: Envío masivo de correos\"\"\"\n",
    "\n",
    "# from contacts import contacts\n",
    "from outlook import outlook\n",
    "from Classes.email_class import SendEmails\n",
    "from helper.notion_helper import ContactColumns, Target\n",
    "\n",
    "CONTACT_FILTERED = [\n",
    "    (ContactColumns.AREA.value, Target.PLANTA.value),\n",
    "    (ContactColumns.AREA.value, Target.MINA.value),\n",
    "    (ContactColumns.AREA.value, Target.COMPRAS.value),\n",
    "    (ContactColumns.AREA.value, Target.TUBERIA.value),\n",
    "]\n",
    "\n",
    "if __name__ == \"__main__\":\n",
    "    emails = SendEmails()\n",
    "    #emails.set_contacts(contacts)\n",
    "    emails.get_contacts(test=False, filter_columns=CONTACT_FILTERED)\n",
    "    emails.set_subject(\"💎💎 El Carburo de Tungsteno .. Int-elle Corporation\")\n",
    "    emails.send(outlook)\n"
   ]
  },
  {
   "cell_type": "code",
   "execution_count": 11,
   "id": "d401807f-773a-4b06-9e8b-85f2e3768bbd",
   "metadata": {
    "tags": []
   },
   "outputs": [],
   "source": [
    "import pandas as pd"
   ]
  },
  {
   "cell_type": "code",
   "execution_count": 13,
   "id": "b109e5cc-7700-4142-ae6a-3296d1d420b3",
   "metadata": {
    "tags": []
   },
   "outputs": [],
   "source": [
    "data = dict([\n",
    "                (ContactColumns.NAME.value, [\n",
    "                 \"José Juan Domínguez López\", \"Noah David\"]),\n",
    "                (ContactColumns.EMAIL.value, [\n",
    "                 \"josejuan.dominguez@int-elle.com\", None]),\n",
    "            ])\n",
    "df = pd.DataFrame(\n",
    "                data=data,\n",
    "                columns=[ContactColumns.NAME.value, ContactColumns.EMAIL.value]\n",
    "            )"
   ]
  },
  {
   "cell_type": "code",
   "execution_count": 14,
   "id": "04d11f30-a15f-41f7-aa83-d8f02a70a4ca",
   "metadata": {
    "tags": []
   },
   "outputs": [
    {
     "data": {
      "text/html": [
       "<div>\n",
       "<style scoped>\n",
       "    .dataframe tbody tr th:only-of-type {\n",
       "        vertical-align: middle;\n",
       "    }\n",
       "\n",
       "    .dataframe tbody tr th {\n",
       "        vertical-align: top;\n",
       "    }\n",
       "\n",
       "    .dataframe thead th {\n",
       "        text-align: right;\n",
       "    }\n",
       "</style>\n",
       "<table border=\"1\" class=\"dataframe\">\n",
       "  <thead>\n",
       "    <tr style=\"text-align: right;\">\n",
       "      <th></th>\n",
       "      <th>Nombre</th>\n",
       "      <th>Correo</th>\n",
       "    </tr>\n",
       "  </thead>\n",
       "  <tbody>\n",
       "    <tr>\n",
       "      <th>0</th>\n",
       "      <td>José Juan Domínguez López</td>\n",
       "      <td>josejuan.dominguez@int-elle.com</td>\n",
       "    </tr>\n",
       "    <tr>\n",
       "      <th>1</th>\n",
       "      <td>Noah David</td>\n",
       "      <td>josejuan.dominguez@int-elle.com</td>\n",
       "    </tr>\n",
       "  </tbody>\n",
       "</table>\n",
       "</div>"
      ],
      "text/plain": [
       "                      Nombre                           Correo\n",
       "0  José Juan Domínguez López  josejuan.dominguez@int-elle.com\n",
       "1                 Noah David  josejuan.dominguez@int-elle.com"
      ]
     },
     "execution_count": 14,
     "metadata": {},
     "output_type": "execute_result"
    }
   ],
   "source": [
    "df"
   ]
  },
  {
   "cell_type": "code",
   "execution_count": null,
   "id": "1d186fbf-b562-4aed-bad3-028a301a517e",
   "metadata": {},
   "outputs": [],
   "source": []
  }
 ],
 "metadata": {
  "kernelspec": {
   "display_name": "Python 3 (ipykernel)",
   "language": "python",
   "name": "python3"
  },
  "language_info": {
   "codemirror_mode": {
    "name": "ipython",
    "version": 3
   },
   "file_extension": ".py",
   "mimetype": "text/x-python",
   "name": "python",
   "nbconvert_exporter": "python",
   "pygments_lexer": "ipython3",
   "version": "3.11.3"
  }
 },
 "nbformat": 4,
 "nbformat_minor": 5
}
