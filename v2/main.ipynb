{
 "cells": [
  {
   "cell_type": "code",
   "execution_count": 1,
   "id": "86719c33-d751-4457-8987-1de2c9dbd07d",
   "metadata": {},
   "outputs": [],
   "source": [
    "import os\n",
    "from pathlib import Path\n",
    "\n",
    "os.getcwd()\n",
    "\n",
    "root = Path(os.getcwd())\n",
    "v2 = Path(\"v2\")\n",
    "new_root = Path(root, v2)\n",
    "os.chdir(new_root)"
   ]
  },
  {
   "cell_type": "code",
   "execution_count": 2,
   "id": "2a7f24c2-3e57-43a2-9a07-14b4e6ec9802",
   "metadata": {},
   "outputs": [
    {
     "name": "stdout",
     "output_type": "stream",
     "text": [
      "====================\n",
      "Cantidad total de contactos = 3\n",
      "====================\n",
      "Correo enviado a:  josejuan.dominguez@int-elle.com\n",
      "==========\n",
      "Correo enviado a:  pe.dominguezjosejuan@gmail.com\n",
      "==========\n",
      "Correo enviado a:  dominguez.josejuan@gmail.com\n",
      "==========\n"
     ]
    }
   ],
   "source": [
    "\"\"\"Módulo principal para ejecutar la aplicación: Envío masivo de correos\"\"\"\n",
    "\n",
    "from contacts import contacts\n",
    "from outlook import outlook\n",
    "from Classes.email_class import SendEmails\n",
    "\n",
    "if __name__ == \"__main__\":\n",
    "    emails = SendEmails()\n",
    "    emails.set_contacts(contacts)\n",
    "    emails.set_subject(\"Asunto del correo\")\n",
    "    emails.send(outlook)\n"
   ]
  },
  {
   "cell_type": "code",
   "execution_count": null,
   "id": "7a998546-3e53-41fc-a71b-102cdb6ead9d",
   "metadata": {},
   "outputs": [],
   "source": []
  }
 ],
 "metadata": {
  "kernelspec": {
   "display_name": "Python 3 (ipykernel)",
   "language": "python",
   "name": "python3"
  },
  "language_info": {
   "codemirror_mode": {
    "name": "ipython",
    "version": 3
   },
   "file_extension": ".py",
   "mimetype": "text/x-python",
   "name": "python",
   "nbconvert_exporter": "python",
   "pygments_lexer": "ipython3",
   "version": "3.10.9"
  }
 },
 "nbformat": 4,
 "nbformat_minor": 5
}
